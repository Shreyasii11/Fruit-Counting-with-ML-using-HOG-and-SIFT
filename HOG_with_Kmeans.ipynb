{
  "nbformat": 4,
  "nbformat_minor": 0,
  "metadata": {
    "colab": {
      "provenance": [],
      "mount_file_id": "1hiGuxDvXZZCBqsdMH7VA--2kLE8uVFG2",
      "authorship_tag": "ABX9TyNpohUUQPwYx8z4u52WoJDe",
      "include_colab_link": true
    },
    "kernelspec": {
      "name": "python3",
      "display_name": "Python 3"
    },
    "language_info": {
      "name": "python"
    }
  },
  "cells": [
    {
      "cell_type": "markdown",
      "metadata": {
        "id": "view-in-github",
        "colab_type": "text"
      },
      "source": [
        "<a href=\"https://colab.research.google.com/github/Shreyasii11/Fruit-Counting-with-ML-using-HOG-and-SIFT/blob/model-2/HOG_with_Kmeans.ipynb\" target=\"_parent\"><img src=\"https://colab.research.google.com/assets/colab-badge.svg\" alt=\"Open In Colab\"/></a>"
      ]
    },
    {
      "cell_type": "code",
      "source": [
        "# Perform KMeans clustering\n",
        "kmeans = KMeans(n_clusters=2, random_state=0).fit(fd.reshape(-1,1))\n",
        "orange_cluster = np.argmax(kmeans.cluster_centers_)\n",
        "\n",
        "\n",
        "\n",
        "# Calculate accuracy and precision using cross-validation\n",
        "X = fd.reshape(-1,1)\n",
        "y = np.zeros(fd.shape[0], dtype=np.uint8)\n",
        "y[kmeans.predict(X) == orange_cluster] = 1\n",
        "scores_acc = cross_val_score(KMeans(n_clusters=2, random_state=0), X, y, cv=5, scoring='accuracy')\n",
        "scores_prec = cross_val_score(KMeans(n_clusters=2, random_state=0), X, y, cv=5, scoring='precision')\n",
        "\n",
        "# Print results\n",
        "print(\"Orange count:\", np.count_nonzero(y == 1))\n",
        "print(\"Accuracy:\", scores_acc.mean())\n",
        "print(\"Precision:\", scores_prec.mean())\n"
      ],
      "metadata": {
        "id": "R_Ch7Sfyln2q"
      },
      "execution_count": null,
      "outputs": []
    },
    {
      "cell_type": "code",
      "source": [
        "import cv2\n",
        "import numpy as np\n",
        "from skimage.feature import hog\n",
        "from sklearn.cluster import KMeans\n",
        "from sklearn.metrics import accuracy_score, precision_score\n",
        "from sklearn.model_selection import cross_val_score"
      ],
      "metadata": {
        "id": "2egOVbmEmTtM"
      },
      "execution_count": null,
      "outputs": []
    },
    {
      "cell_type": "code",
      "source": [
        "\n",
        "# Load image and convert to grayscale\n",
        "img = cv2.imread('/content/Boost-Orange-Yield3.jpg')\n",
        "gray = cv2.cvtColor(img, cv2.COLOR_BGR2GRAY)"
      ],
      "metadata": {
        "id": "Gw680ApMmTyx"
      },
      "execution_count": null,
      "outputs": []
    },
    {
      "cell_type": "code",
      "source": [
        "# Perform HOG feature extraction\n",
        "fd, hog_image = hog(gray, orientations=9, pixels_per_cell=(8, 8), cells_per_block=(2, 2), visualize=True, multichannel=False)\n"
      ],
      "metadata": {
        "colab": {
          "base_uri": "https://localhost:8080/"
        },
        "id": "PSF9gg3smT0l",
        "outputId": "b91552b0-7f5f-4011-cecb-9de047b60566"
      },
      "execution_count": null,
      "outputs": [
        {
          "output_type": "stream",
          "name": "stderr",
          "text": [
            "<ipython-input-9-fcc25ad76994>:2: FutureWarning: `multichannel` is a deprecated argument name for `hog`. It will be removed in version 1.0. Please use `channel_axis` instead.\n",
            "  fd, hog_image = hog(gray, orientations=9, pixels_per_cell=(8, 8), cells_per_block=(2, 2), visualize=True, multichannel=False)\n"
          ]
        }
      ]
    },
    {
      "cell_type": "code",
      "source": [
        "# Reshape feature array\n",
        "n_features = fd.shape[2]\n",
        "fd_reshape = fd.reshape(-1, n_features)\n",
        "\n"
      ],
      "metadata": {
        "colab": {
          "base_uri": "https://localhost:8080/",
          "height": 217
        },
        "id": "pogwWNfnmT5y",
        "outputId": "b14d7e7b-249d-4105-d4a9-6405a1deb94c"
      },
      "execution_count": null,
      "outputs": [
        {
          "output_type": "error",
          "ename": "IndexError",
          "evalue": "ignored",
          "traceback": [
            "\u001b[0;31m---------------------------------------------------------------------------\u001b[0m",
            "\u001b[0;31mIndexError\u001b[0m                                Traceback (most recent call last)",
            "\u001b[0;32m<ipython-input-13-2cefc78da532>\u001b[0m in \u001b[0;36m<cell line: 2>\u001b[0;34m()\u001b[0m\n\u001b[1;32m      1\u001b[0m \u001b[0;31m# Reshape feature array\u001b[0m\u001b[0;34m\u001b[0m\u001b[0;34m\u001b[0m\u001b[0m\n\u001b[0;32m----> 2\u001b[0;31m \u001b[0mn_features\u001b[0m \u001b[0;34m=\u001b[0m \u001b[0mfd\u001b[0m\u001b[0;34m.\u001b[0m\u001b[0mshape\u001b[0m\u001b[0;34m[\u001b[0m\u001b[0;36m2\u001b[0m\u001b[0;34m]\u001b[0m\u001b[0;34m\u001b[0m\u001b[0;34m\u001b[0m\u001b[0m\n\u001b[0m\u001b[1;32m      3\u001b[0m \u001b[0mfd_reshape\u001b[0m \u001b[0;34m=\u001b[0m \u001b[0mfd\u001b[0m\u001b[0;34m.\u001b[0m\u001b[0mreshape\u001b[0m\u001b[0;34m(\u001b[0m\u001b[0;34m-\u001b[0m\u001b[0;36m1\u001b[0m\u001b[0;34m,\u001b[0m \u001b[0mn_features\u001b[0m\u001b[0;34m)\u001b[0m\u001b[0;34m\u001b[0m\u001b[0;34m\u001b[0m\u001b[0m\n\u001b[1;32m      4\u001b[0m \u001b[0;34m\u001b[0m\u001b[0m\n",
            "\u001b[0;31mIndexError\u001b[0m: tuple index out of range"
          ]
        }
      ]
    },
    {
      "cell_type": "code",
      "source": [
        "import cv2\n",
        "import numpy as np\n",
        "from sklearn.cluster import KMeans\n",
        "from skimage.feature import hog\n",
        "\n",
        "# Load image\n",
        "img = cv2.imread('/content/Valencia_Orange_Tree-50_600x600.jpg')\n",
        "\n",
        "# Convert image to grayscale\n",
        "gray = cv2.cvtColor(img, cv2.COLOR_BGR2GRAY)\n",
        "\n",
        "# Extract HOG features\n",
        "fd, hog_image = hog(gray, orientations=8, pixels_per_cell=(16, 16),\n",
        "                    cells_per_block=(1, 1), visualize=True, multichannel=False)\n",
        "\n",
        "# Apply K-means clustering\n",
        "n_samples, n_features = fd.shape\n",
        "fd_2d = fd.reshape(n_samples, -1)\n",
        "kmeans = KMeans(n_clusters=2, random_state=0).fit(fd_2d)\n",
        "\n",
        "# Determine orange cluster label\n",
        "orange_cluster = 1 if np.sum(kmeans.labels_ == 0) > np.sum(kmeans.labels_ == 1) else 0\n",
        "\n",
        "# Apply mask to original image\n",
        "mask = np.zeros(gray.shape[:2], dtype=np.uint8)\n",
        "for i in range(img.shape[0]):\n",
        "    for j in range(img.shape[1]):\n",
        "        if kmeans.predict(fd[i,j].reshape(1,-1)) == orange_cluster:\n",
        "            mask[i,j] = 255\n",
        "res = cv2.bitwise_and(img,img,mask = mask)\n",
        "\n",
        "# Count oranges\n",
        "contours, hierarchy = cv2.findContours(mask, cv2.RETR_EXTERNAL, cv2.CHAIN_APPROX_SIMPLE)\n",
        "orange_count = len(contours)\n",
        "\n",
        "# Calculate accuracy\n",
        "true_orange_count = 7  # Replace with actual ground truth count\n",
        "accuracy = orange_count / true_orange_count\n",
        "\n",
        "# Print results\n",
        "print(f\"Number of oranges: {orange_count}\")\n",
        "print(f\"Accuracy: {accuracy}\")\n"
      ],
      "metadata": {
        "colab": {
          "base_uri": "https://localhost:8080/",
          "height": 269
        },
        "id": "dRkDFnXGmUDI",
        "outputId": "850b7af9-c810-42be-e764-9fe34e94e7b5"
      },
      "execution_count": null,
      "outputs": [
        {
          "output_type": "stream",
          "name": "stderr",
          "text": [
            "<ipython-input-14-807d2fe3b9c3>:13: FutureWarning: `multichannel` is a deprecated argument name for `hog`. It will be removed in version 1.0. Please use `channel_axis` instead.\n",
            "  fd, hog_image = hog(gray, orientations=8, pixels_per_cell=(16, 16),\n"
          ]
        },
        {
          "output_type": "error",
          "ename": "ValueError",
          "evalue": "ignored",
          "traceback": [
            "\u001b[0;31m---------------------------------------------------------------------------\u001b[0m",
            "\u001b[0;31mValueError\u001b[0m                                Traceback (most recent call last)",
            "\u001b[0;32m<ipython-input-14-807d2fe3b9c3>\u001b[0m in \u001b[0;36m<cell line: 17>\u001b[0;34m()\u001b[0m\n\u001b[1;32m     15\u001b[0m \u001b[0;34m\u001b[0m\u001b[0m\n\u001b[1;32m     16\u001b[0m \u001b[0;31m# Apply K-means clustering\u001b[0m\u001b[0;34m\u001b[0m\u001b[0;34m\u001b[0m\u001b[0m\n\u001b[0;32m---> 17\u001b[0;31m \u001b[0mn_samples\u001b[0m\u001b[0;34m,\u001b[0m \u001b[0mn_features\u001b[0m \u001b[0;34m=\u001b[0m \u001b[0mfd\u001b[0m\u001b[0;34m.\u001b[0m\u001b[0mshape\u001b[0m\u001b[0;34m\u001b[0m\u001b[0;34m\u001b[0m\u001b[0m\n\u001b[0m\u001b[1;32m     18\u001b[0m \u001b[0mfd_2d\u001b[0m \u001b[0;34m=\u001b[0m \u001b[0mfd\u001b[0m\u001b[0;34m.\u001b[0m\u001b[0mreshape\u001b[0m\u001b[0;34m(\u001b[0m\u001b[0mn_samples\u001b[0m\u001b[0;34m,\u001b[0m \u001b[0;34m-\u001b[0m\u001b[0;36m1\u001b[0m\u001b[0;34m)\u001b[0m\u001b[0;34m\u001b[0m\u001b[0;34m\u001b[0m\u001b[0m\n\u001b[1;32m     19\u001b[0m \u001b[0mkmeans\u001b[0m \u001b[0;34m=\u001b[0m \u001b[0mKMeans\u001b[0m\u001b[0;34m(\u001b[0m\u001b[0mn_clusters\u001b[0m\u001b[0;34m=\u001b[0m\u001b[0;36m2\u001b[0m\u001b[0;34m,\u001b[0m \u001b[0mrandom_state\u001b[0m\u001b[0;34m=\u001b[0m\u001b[0;36m0\u001b[0m\u001b[0;34m)\u001b[0m\u001b[0;34m.\u001b[0m\u001b[0mfit\u001b[0m\u001b[0;34m(\u001b[0m\u001b[0mfd_2d\u001b[0m\u001b[0;34m)\u001b[0m\u001b[0;34m\u001b[0m\u001b[0;34m\u001b[0m\u001b[0m\n",
            "\u001b[0;31mValueError\u001b[0m: not enough values to unpack (expected 2, got 1)"
          ]
        }
      ]
    },
    {
      "cell_type": "code",
      "source": [],
      "metadata": {
        "id": "OmjziAKKmUFr"
      },
      "execution_count": null,
      "outputs": []
    },
    {
      "cell_type": "markdown",
      "source": [
        "## **NEXT TRY**"
      ],
      "metadata": {
        "id": "DdNvJbGIxmsU"
      }
    },
    {
      "cell_type": "code",
      "source": [
        "import cv2\n",
        "import numpy as np\n",
        "from sklearn.cluster import KMeans\n",
        "from skimage.feature import hog\n",
        "from sklearn.metrics import accuracy_score, precision_score, recall_score\n"
      ],
      "metadata": {
        "id": "3g3YOSROln6S"
      },
      "execution_count": null,
      "outputs": []
    },
    {
      "cell_type": "code",
      "source": [
        "# Load image\n",
        "img = cv2.imread('/content/oranges-fruit-orange-tree-spain.jpg')\n",
        "\n",
        "# Convert image to grayscale\n",
        "gray = cv2.cvtColor(img, cv2.COLOR_BGR2GRAY)"
      ],
      "metadata": {
        "id": "ftDLDqQUln9O"
      },
      "execution_count": null,
      "outputs": []
    },
    {
      "cell_type": "code",
      "source": [
        "# Compute HOG features\n",
        "hog_feats, hog_img = hog(gray, orientations=8, pixels_per_cell=(16, 16), cells_per_block=(1, 1), visualize=True)"
      ],
      "metadata": {
        "id": "VTIlNo5qyOtm"
      },
      "execution_count": null,
      "outputs": []
    },
    {
      "cell_type": "code",
      "source": [
        "# Apply K-means clustering\n",
        "n_samples, n_features = hog_feats.shape\n",
        "hog_feats_2d = hog_feats.reshape(n_samples, -1)\n",
        "kmeans = KMeans(n_clusters=2, random_state=0).fit(hog_feats_2d)"
      ],
      "metadata": {
        "id": "wjw7FyOKyWK9",
        "outputId": "63838c17-5fc8-453a-8810-922f8d23de0c",
        "colab": {
          "base_uri": "https://localhost:8080/",
          "height": 217
        }
      },
      "execution_count": null,
      "outputs": [
        {
          "output_type": "error",
          "ename": "ValueError",
          "evalue": "ignored",
          "traceback": [
            "\u001b[0;31m---------------------------------------------------------------------------\u001b[0m",
            "\u001b[0;31mValueError\u001b[0m                                Traceback (most recent call last)",
            "\u001b[0;32m<ipython-input-19-dff67dcd4783>\u001b[0m in \u001b[0;36m<cell line: 2>\u001b[0;34m()\u001b[0m\n\u001b[1;32m      1\u001b[0m \u001b[0;31m# Apply K-means clustering\u001b[0m\u001b[0;34m\u001b[0m\u001b[0;34m\u001b[0m\u001b[0m\n\u001b[0;32m----> 2\u001b[0;31m \u001b[0mn_samples\u001b[0m\u001b[0;34m,\u001b[0m \u001b[0mn_features\u001b[0m \u001b[0;34m=\u001b[0m \u001b[0mhog_feats\u001b[0m\u001b[0;34m.\u001b[0m\u001b[0mshape\u001b[0m\u001b[0;34m\u001b[0m\u001b[0;34m\u001b[0m\u001b[0m\n\u001b[0m\u001b[1;32m      3\u001b[0m \u001b[0mhog_feats_2d\u001b[0m \u001b[0;34m=\u001b[0m \u001b[0mhog_feats\u001b[0m\u001b[0;34m.\u001b[0m\u001b[0mreshape\u001b[0m\u001b[0;34m(\u001b[0m\u001b[0mn_samples\u001b[0m\u001b[0;34m,\u001b[0m \u001b[0;34m-\u001b[0m\u001b[0;36m1\u001b[0m\u001b[0;34m)\u001b[0m\u001b[0;34m\u001b[0m\u001b[0;34m\u001b[0m\u001b[0m\n\u001b[1;32m      4\u001b[0m \u001b[0mkmeans\u001b[0m \u001b[0;34m=\u001b[0m \u001b[0mKMeans\u001b[0m\u001b[0;34m(\u001b[0m\u001b[0mn_clusters\u001b[0m\u001b[0;34m=\u001b[0m\u001b[0;36m2\u001b[0m\u001b[0;34m,\u001b[0m \u001b[0mrandom_state\u001b[0m\u001b[0;34m=\u001b[0m\u001b[0;36m0\u001b[0m\u001b[0;34m)\u001b[0m\u001b[0;34m.\u001b[0m\u001b[0mfit\u001b[0m\u001b[0;34m(\u001b[0m\u001b[0mhog_feats_2d\u001b[0m\u001b[0;34m)\u001b[0m\u001b[0;34m\u001b[0m\u001b[0;34m\u001b[0m\u001b[0m\n",
            "\u001b[0;31mValueError\u001b[0m: not enough values to unpack (expected 2, got 1)"
          ]
        }
      ]
    },
    {
      "cell_type": "code",
      "source": [
        "import cv2\n",
        "import numpy as np\n",
        "from sklearn.cluster import KMeans\n",
        "from sklearn.neighbors import KNeighborsClassifier\n",
        "from sklearn.model_selection import train_test_split\n",
        "import os\n",
        "\n",
        "# Set up parameters for HOG descriptor\n",
        "WINDOW_SIZE = (64, 64)\n",
        "HOG_PARAMS = {'_winSize': WINDOW_SIZE,\n",
        "              '_blockSize': (16, 16),\n",
        "              '_blockStride': (8, 8),\n",
        "              '_cellSize': (8, 8),\n",
        "              '_nbins': 9}\n",
        "\n",
        "# Load the image dataset\n",
        "data = []\n",
        "labels = []\n",
        "for folder_name in ['Oranges', 'Non-Oranges']:\n",
        "    folder_path = f'/content/drive/My Drive/Fruit_Dataset/{folder_name}/'\n",
        "    for filename in os.listdir(folder_path):\n",
        "        img = cv2.imread(os.path.join(folder_path, filename))\n",
        "        img_gray = cv2.cvtColor(img, cv2.COLOR_BGR2GRAY)\n",
        "        img_resized = cv2.resize(img_gray, WINDOW_SIZE)\n",
        "        hog = cv2.HOGDescriptor(**HOG_PARAMS)\n",
        "        features = hog.compute(img_resized)\n",
        "        data.append(features)\n",
        "        labels.append(1 if folder_name == 'Oranges' else 0)\n",
        "\n",
        "# Split data into training and testing sets\n",
        "X_train, X_test, y_train, y_test = train_test_split(data, labels, test_size=0.2, random_state=42)\n",
        "\n",
        "# Apply k-means clustering\n",
        "kmeans = KMeans(n_clusters=2, random_state=42)\n",
        "kmeans.fit(X_train)\n",
        "train_labels = kmeans.labels_\n",
        "\n",
        "# Train a k-nearest neighbors classifier on the clustered data\n",
        "knn = KNeighborsClassifier(n_neighbors=3)\n",
        "knn.fit(X_train, train_labels)\n",
        "\n",
        "# Predict labels for test data\n",
        "test_labels = kmeans.predict(X_test)\n",
        "y_pred = knn.predict(X_test)\n",
        "\n",
        "# Calculate accuracy\n",
        "accuracy = sum(y_pred == y_test) / len(y_test) * 100\n",
        "print(f\"Accuracy: {accuracy:.2f}%\")\n",
        "\n",
        "# Count the number of oranges\n",
        "orange_count = sum(test_labels)\n",
        "print(f\"Number of oranges: {orange_count}\")\n"
      ],
      "metadata": {
        "colab": {
          "base_uri": "https://localhost:8080/"
        },
        "id": "6hF6uxfE5mPb",
        "outputId": "c2490a8b-d8a8-42c9-b013-1c44c6745bc3"
      },
      "execution_count": null,
      "outputs": [
        {
          "output_type": "stream",
          "name": "stdout",
          "text": [
            "Accuracy: 50.00%\n",
            "Number of oranges: 4\n"
          ]
        },
        {
          "output_type": "stream",
          "name": "stderr",
          "text": [
            "/usr/local/lib/python3.9/dist-packages/sklearn/cluster/_kmeans.py:870: FutureWarning: The default value of `n_init` will change from 10 to 'auto' in 1.4. Set the value of `n_init` explicitly to suppress the warning\n",
            "  warnings.warn(\n"
          ]
        }
      ]
    },
    {
      "cell_type": "code",
      "source": [
        "import cv2\n",
        "import numpy as np\n",
        "from sklearn.cluster import KMeans\n",
        "from sklearn.metrics import accuracy_score\n",
        "\n",
        "\n",
        "# Parameters for HOG feature extraction\n",
        "HOG_PARAMS = {'_winSize': (64, 64),\n",
        "              '_blockSize': (16, 16),\n",
        "              '_blockStride': (8, 8),\n",
        "              '_cellSize': (8, 8),\n",
        "              '_nbins': 9,\n",
        "              '_derivAperture': 1,\n",
        "              '_winSigma': -1,\n",
        "              '_histogramNormType': 0,\n",
        "              '_L2HysThreshold': 0.2,\n",
        "              '_gammaCorrection': True,\n",
        "              '_nlevels': 64,\n",
        "              '_signedGradient': False}"
      ],
      "metadata": {
        "id": "q22Xvv4468be"
      },
      "execution_count": null,
      "outputs": []
    },
    {
      "cell_type": "code",
      "source": [
        "\n",
        "# Load the image dataset\n",
        "data = []\n",
        "labels = []\n",
        "for folder_name in ['Oranges', 'Non-Oranges']:\n",
        "    folder_path = f'/content/drive/My Drive/Fruit_Dataset/{folder_name}/'\n",
        "    for filename in os.listdir(folder_path):\n",
        "        img = cv2.imread(os.path.join(folder_path, filename))\n",
        "        img_gray = cv2.cvtColor(img, cv2.COLOR_BGR2GRAY)\n",
        "        img_resized = cv2.resize(img_gray, WINDOW_SIZE)\n",
        "        hog = cv2.HOGDescriptor(**HOG_PARAMS)\n",
        "        features = hog.compute(img_resized)\n",
        "        data.append(features)\n",
        "        labels.append(1 if folder_name == 'Oranges' else 0)"
      ],
      "metadata": {
        "id": "nABJI4uq7Owq"
      },
      "execution_count": null,
      "outputs": []
    },
    {
      "cell_type": "code",
      "source": [
        "# Train K-means clustering model\n",
        "kmeans = KMeans(n_clusters=2, random_state=0).fit(data)\n",
        "\n",
        "# Load test data\n",
        "test_img = cv2.imread('/test_image.jpg')\n",
        "test_img_gray = cv2.cvtColor(test_img, cv2.COLOR_BGR2GRAY)\n",
        "test_img_resized = cv2.resize(test_img_gray, HOG_PARAMS['_winSize'])\n",
        "hog = cv2.HOGDescriptor(**HOG_PARAMS)\n",
        "test_features = hog.compute(test_img_resized).reshape(1,-1)\n",
        "test_features = test_features.astype(np.float32)"
      ],
      "metadata": {
        "colab": {
          "base_uri": "https://localhost:8080/"
        },
        "id": "RuFDSKjB9H2p",
        "outputId": "cde667e1-5698-4df9-f1f4-125e6d1dbc22"
      },
      "execution_count": null,
      "outputs": [
        {
          "output_type": "stream",
          "name": "stderr",
          "text": [
            "/usr/local/lib/python3.9/dist-packages/sklearn/cluster/_kmeans.py:870: FutureWarning: The default value of `n_init` will change from 10 to 'auto' in 1.4. Set the value of `n_init` explicitly to suppress the warning\n",
            "  warnings.warn(\n"
          ]
        }
      ]
    },
    {
      "cell_type": "code",
      "source": [
        "\n",
        "\n",
        "# Predict using trained model\n",
        "test_pred = kmeans.predict(test_features)\n",
        "\n",
        "# Count oranges\n",
        "orange_count = np.sum(test_pred == 1)\n",
        "\n",
        "# Calculate accuracy on training data\n",
        "train_pred = kmeans.predict(data)\n",
        "train_acc = accuracy_score(labels, train_pred)\n",
        "\n"
      ],
      "metadata": {
        "colab": {
          "base_uri": "https://localhost:8080/",
          "height": 432
        },
        "id": "CSomD-v299Bu",
        "outputId": "6ebe7495-0724-434e-8b7c-c6d5740986a2"
      },
      "execution_count": null,
      "outputs": [
        {
          "output_type": "error",
          "ename": "ValueError",
          "evalue": "ignored",
          "traceback": [
            "\u001b[0;31m---------------------------------------------------------------------------\u001b[0m",
            "\u001b[0;31mValueError\u001b[0m                                Traceback (most recent call last)",
            "\u001b[0;32m<ipython-input-25-9b1974e337f3>\u001b[0m in \u001b[0;36m<cell line: 2>\u001b[0;34m()\u001b[0m\n\u001b[1;32m      1\u001b[0m \u001b[0;31m# Predict using trained model\u001b[0m\u001b[0;34m\u001b[0m\u001b[0;34m\u001b[0m\u001b[0m\n\u001b[0;32m----> 2\u001b[0;31m \u001b[0mtest_pred\u001b[0m \u001b[0;34m=\u001b[0m \u001b[0mkmeans\u001b[0m\u001b[0;34m.\u001b[0m\u001b[0mpredict\u001b[0m\u001b[0;34m(\u001b[0m\u001b[0mtest_features\u001b[0m\u001b[0;34m)\u001b[0m\u001b[0;34m\u001b[0m\u001b[0;34m\u001b[0m\u001b[0m\n\u001b[0m\u001b[1;32m      3\u001b[0m \u001b[0;34m\u001b[0m\u001b[0m\n\u001b[1;32m      4\u001b[0m \u001b[0;31m# Count oranges\u001b[0m\u001b[0;34m\u001b[0m\u001b[0;34m\u001b[0m\u001b[0m\n\u001b[1;32m      5\u001b[0m \u001b[0morange_count\u001b[0m \u001b[0;34m=\u001b[0m \u001b[0mnp\u001b[0m\u001b[0;34m.\u001b[0m\u001b[0msum\u001b[0m\u001b[0;34m(\u001b[0m\u001b[0mtest_pred\u001b[0m \u001b[0;34m==\u001b[0m \u001b[0;36m1\u001b[0m\u001b[0;34m)\u001b[0m\u001b[0;34m\u001b[0m\u001b[0;34m\u001b[0m\u001b[0m\n",
            "\u001b[0;32m/usr/local/lib/python3.9/dist-packages/sklearn/cluster/_kmeans.py\u001b[0m in \u001b[0;36mpredict\u001b[0;34m(self, X, sample_weight)\u001b[0m\n\u001b[1;32m   1059\u001b[0m         \u001b[0msample_weight\u001b[0m \u001b[0;34m=\u001b[0m \u001b[0m_check_sample_weight\u001b[0m\u001b[0;34m(\u001b[0m\u001b[0msample_weight\u001b[0m\u001b[0;34m,\u001b[0m \u001b[0mX\u001b[0m\u001b[0;34m,\u001b[0m \u001b[0mdtype\u001b[0m\u001b[0;34m=\u001b[0m\u001b[0mX\u001b[0m\u001b[0;34m.\u001b[0m\u001b[0mdtype\u001b[0m\u001b[0;34m)\u001b[0m\u001b[0;34m\u001b[0m\u001b[0;34m\u001b[0m\u001b[0m\n\u001b[1;32m   1060\u001b[0m \u001b[0;34m\u001b[0m\u001b[0m\n\u001b[0;32m-> 1061\u001b[0;31m         labels = _labels_inertia_threadpool_limit(\n\u001b[0m\u001b[1;32m   1062\u001b[0m             \u001b[0mX\u001b[0m\u001b[0;34m,\u001b[0m\u001b[0;34m\u001b[0m\u001b[0;34m\u001b[0m\u001b[0m\n\u001b[1;32m   1063\u001b[0m             \u001b[0msample_weight\u001b[0m\u001b[0;34m,\u001b[0m\u001b[0;34m\u001b[0m\u001b[0;34m\u001b[0m\u001b[0m\n",
            "\u001b[0;32m/usr/local/lib/python3.9/dist-packages/sklearn/cluster/_kmeans.py\u001b[0m in \u001b[0;36m_labels_inertia_threadpool_limit\u001b[0;34m(X, sample_weight, centers, n_threads, return_inertia)\u001b[0m\n\u001b[1;32m    811\u001b[0m     \u001b[0;34m\"\"\"Same as _labels_inertia but in a threadpool_limits context.\"\"\"\u001b[0m\u001b[0;34m\u001b[0m\u001b[0;34m\u001b[0m\u001b[0m\n\u001b[1;32m    812\u001b[0m     \u001b[0;32mwith\u001b[0m \u001b[0mthreadpool_limits\u001b[0m\u001b[0;34m(\u001b[0m\u001b[0mlimits\u001b[0m\u001b[0;34m=\u001b[0m\u001b[0;36m1\u001b[0m\u001b[0;34m,\u001b[0m \u001b[0muser_api\u001b[0m\u001b[0;34m=\u001b[0m\u001b[0;34m\"blas\"\u001b[0m\u001b[0;34m)\u001b[0m\u001b[0;34m:\u001b[0m\u001b[0;34m\u001b[0m\u001b[0;34m\u001b[0m\u001b[0m\n\u001b[0;32m--> 813\u001b[0;31m         \u001b[0mresult\u001b[0m \u001b[0;34m=\u001b[0m \u001b[0m_labels_inertia\u001b[0m\u001b[0;34m(\u001b[0m\u001b[0mX\u001b[0m\u001b[0;34m,\u001b[0m \u001b[0msample_weight\u001b[0m\u001b[0;34m,\u001b[0m \u001b[0mcenters\u001b[0m\u001b[0;34m,\u001b[0m \u001b[0mn_threads\u001b[0m\u001b[0;34m,\u001b[0m \u001b[0mreturn_inertia\u001b[0m\u001b[0;34m)\u001b[0m\u001b[0;34m\u001b[0m\u001b[0;34m\u001b[0m\u001b[0m\n\u001b[0m\u001b[1;32m    814\u001b[0m \u001b[0;34m\u001b[0m\u001b[0m\n\u001b[1;32m    815\u001b[0m     \u001b[0;32mreturn\u001b[0m \u001b[0mresult\u001b[0m\u001b[0;34m\u001b[0m\u001b[0;34m\u001b[0m\u001b[0m\n",
            "\u001b[0;32m/usr/local/lib/python3.9/dist-packages/sklearn/cluster/_kmeans.py\u001b[0m in \u001b[0;36m_labels_inertia\u001b[0;34m(X, sample_weight, centers, n_threads, return_inertia)\u001b[0m\n\u001b[1;32m    787\u001b[0m \u001b[0;34m\u001b[0m\u001b[0m\n\u001b[1;32m    788\u001b[0m     \u001b[0mcenters\u001b[0m \u001b[0;34m=\u001b[0m \u001b[0mReadonlyArrayWrapper\u001b[0m\u001b[0;34m(\u001b[0m\u001b[0mcenters\u001b[0m\u001b[0;34m)\u001b[0m\u001b[0;34m\u001b[0m\u001b[0;34m\u001b[0m\u001b[0m\n\u001b[0;32m--> 789\u001b[0;31m     _labels(\n\u001b[0m\u001b[1;32m    790\u001b[0m         \u001b[0mX\u001b[0m\u001b[0;34m,\u001b[0m\u001b[0;34m\u001b[0m\u001b[0;34m\u001b[0m\u001b[0m\n\u001b[1;32m    791\u001b[0m         \u001b[0msample_weight\u001b[0m\u001b[0;34m,\u001b[0m\u001b[0;34m\u001b[0m\u001b[0;34m\u001b[0m\u001b[0m\n",
            "\u001b[0;32msklearn/cluster/_k_means_lloyd.pyx\u001b[0m in \u001b[0;36msklearn.cluster._k_means_lloyd.lloyd_iter_chunked_dense\u001b[0;34m()\u001b[0m\n",
            "\u001b[0;31mValueError\u001b[0m: Buffer dtype mismatch, expected 'float' but got 'double'"
          ]
        }
      ]
    },
    {
      "cell_type": "code",
      "source": [
        "import cv2\n",
        "import numpy as np\n",
        "from skimage.feature import hog\n",
        "from sklearn.cluster import KMeans\n",
        "\n",
        "# Load image and convert to grayscale\n",
        "img = cv2.imread('/content/orange10.jpg')\n",
        "gray = cv2.cvtColor(img, cv2.COLOR_BGR2GRAY)\n",
        "\n",
        "# Extract HOG features\n",
        "hog_features = hog(gray, orientations=9, pixels_per_cell=(8, 8),\n",
        "                   cells_per_block=(2, 2), transform_sqrt=True, block_norm='L2-Hys')\n",
        "\n",
        "# Perform KMeans clustering\n",
        "kmeans = KMeans(n_clusters=2, random_state=0).fit(hog_features.reshape(-1, 1))\n",
        "labels = kmeans.labels_\n",
        "\n",
        "# Count oranges\n",
        "count_oranges = np.count_nonzero(labels == 0)\n",
        "\n",
        "# Display count and accuracy\n",
        "ground_truth_count = 10 # Replace with actual ground truth count\n",
        "accuracy = count_oranges / ground_truth_count * 100\n",
        "print(\"Orange count:\", count_oranges)\n",
        "print(\"Accuracy:\", accuracy, \"%\")\n"
      ],
      "metadata": {
        "colab": {
          "base_uri": "https://localhost:8080/"
        },
        "id": "JfmHIMxBW6yX",
        "outputId": "9a3c0942-d0a1-4958-e0c0-0480b5c44574"
      },
      "execution_count": null,
      "outputs": [
        {
          "output_type": "stream",
          "name": "stderr",
          "text": [
            "/usr/local/lib/python3.9/dist-packages/sklearn/cluster/_kmeans.py:870: FutureWarning: The default value of `n_init` will change from 10 to 'auto' in 1.4. Set the value of `n_init` explicitly to suppress the warning\n",
            "  warnings.warn(\n"
          ]
        },
        {
          "output_type": "stream",
          "name": "stdout",
          "text": [
            "Orange count: 252021\n",
            "Accuracy: 2520210.0 %\n"
          ]
        }
      ]
    },
    {
      "cell_type": "code",
      "source": [
        "import cv2\n",
        "import numpy as np\n",
        "from skimage.feature import hog\n",
        "from sklearn.cluster import KMeans\n",
        "\n",
        "# Load image and convert to grayscale\n",
        "img = cv2.imread('orange10.jpg')\n",
        "gray = cv2.cvtColor(img, cv2.COLOR_BGR2GRAY)\n",
        "\n",
        "# Preprocess image\n",
        "blur = cv2.GaussianBlur(gray, (5, 5), 0)\n",
        "_, thresh = cv2.threshold(blur, 100, 255, cv2.THRESH_BINARY)\n",
        "\n",
        "# Extract HOG features\n",
        "hog_features = hog(thresh, orientations=9, pixels_per_cell=(8, 8),\n",
        "                   cells_per_block=(2, 2), transform_sqrt=True, block_norm='L2-Hys')\n",
        "\n",
        "# Perform KMeans clustering\n",
        "kmeans = KMeans(n_clusters=2, random_state=0).fit(hog_features.reshape(-1, 1))\n",
        "labels = kmeans.labels_\n",
        "\n",
        "# Count oranges\n",
        "count_oranges = np.count_nonzero(labels == 0)\n",
        "\n",
        "# Display count and accuracy\n",
        "ground_truth_count = 10 # Replace with actual ground truth count\n",
        "accuracy = count_oranges / ground_truth_count * 100\n",
        "print(\"Orange count:\", count_oranges)\n",
        "print(\"Accuracy:\", accuracy, \"%\")\n"
      ],
      "metadata": {
        "colab": {
          "base_uri": "https://localhost:8080/"
        },
        "id": "dA-qOHUBXhOr",
        "outputId": "c9bfa52d-efc0-4310-e8a1-2aa5dd1fadd8"
      },
      "execution_count": null,
      "outputs": [
        {
          "output_type": "stream",
          "name": "stderr",
          "text": [
            "/usr/local/lib/python3.9/dist-packages/sklearn/cluster/_kmeans.py:870: FutureWarning: The default value of `n_init` will change from 10 to 'auto' in 1.4. Set the value of `n_init` explicitly to suppress the warning\n",
            "  warnings.warn(\n"
          ]
        },
        {
          "output_type": "stream",
          "name": "stdout",
          "text": [
            "Orange count: 335995\n",
            "Accuracy: 3359950.0 %\n"
          ]
        }
      ]
    },
    {
      "cell_type": "code",
      "source": [
        "\n",
        "\n",
        "\n",
        "\n",
        "\n",
        "# Cluster HOG features using KMeans\n",
        "n_clusters = 3 # Number of clusters (assumes 3 classes of objects)\n",
        "kmeans = KMeans(n_clusters=n_clusters, random_state=0)\n",
        "kmeans.fit(train_features)\n",
        "\n",
        "# Load test image and extract HOG features\n",
        "test_img = cv2.imread('test_image.jpg')\n",
        "gray = cv2.cvtColor(test_img, cv2.COLOR_BGR2GRAY)\n",
        "hog_features = hog(gray, orientations=9, pixels_per_cell=(8, 8),\n",
        "                   cells_per_block=(2, 2), transform_sqrt=True, block_norm='L2-Hys')\n",
        "\n",
        "# Predict cluster labels for test image using KMeans\n",
        "test_label = kmeans.predict([hog_features])[0]\n",
        "\n",
        "# Count oranges\n",
        "cluster_labels = kmeans.labels_\n",
        "orange_cluster = np.argmax(np.bincount(cluster_labels)) # Cluster with most oranges\n",
        "count_oranges = np.count_nonzero(cluster_labels == orange_cluster)\n",
        "\n",
        "# Display count and accuracy\n",
        "ground_truth_count = 10 # Replace with actual ground truth count\n",
        "accuracy = accuracy_score([test_label], [orange_cluster]) * 100\n",
        "print(\"Orange count:\", count_oranges)\n",
        "print(\"Accuracy:\", accuracy, \"%\")\n"
      ],
      "metadata": {
        "colab": {
          "base_uri": "https://localhost:8080/",
          "height": 234
        },
        "id": "9j6i4KoAYPfZ",
        "outputId": "3decfcf3-3def-47eb-e006-1554100bb195"
      },
      "execution_count": null,
      "outputs": [
        {
          "output_type": "error",
          "ename": "error",
          "evalue": "ignored",
          "traceback": [
            "\u001b[0;31m---------------------------------------------------------------------------\u001b[0m",
            "\u001b[0;31merror\u001b[0m                                     Traceback (most recent call last)",
            "\u001b[0;32m<ipython-input-5-7e2584744ff5>\u001b[0m in \u001b[0;36m<cell line: 10>\u001b[0;34m()\u001b[0m\n\u001b[1;32m     10\u001b[0m \u001b[0;32mfor\u001b[0m \u001b[0mimg_path\u001b[0m \u001b[0;32min\u001b[0m \u001b[0mtrain_imgs\u001b[0m\u001b[0;34m:\u001b[0m\u001b[0;34m\u001b[0m\u001b[0;34m\u001b[0m\u001b[0m\n\u001b[1;32m     11\u001b[0m     \u001b[0mimg\u001b[0m \u001b[0;34m=\u001b[0m \u001b[0mcv2\u001b[0m\u001b[0;34m.\u001b[0m\u001b[0mimread\u001b[0m\u001b[0;34m(\u001b[0m\u001b[0mimg_path\u001b[0m\u001b[0;34m)\u001b[0m\u001b[0;34m\u001b[0m\u001b[0;34m\u001b[0m\u001b[0m\n\u001b[0;32m---> 12\u001b[0;31m     \u001b[0mgray\u001b[0m \u001b[0;34m=\u001b[0m \u001b[0mcv2\u001b[0m\u001b[0;34m.\u001b[0m\u001b[0mcvtColor\u001b[0m\u001b[0;34m(\u001b[0m\u001b[0mimg\u001b[0m\u001b[0;34m,\u001b[0m \u001b[0mcv2\u001b[0m\u001b[0;34m.\u001b[0m\u001b[0mCOLOR_BGR2GRAY\u001b[0m\u001b[0;34m)\u001b[0m\u001b[0;34m\u001b[0m\u001b[0;34m\u001b[0m\u001b[0m\n\u001b[0m\u001b[1;32m     13\u001b[0m     hog_features = hog(gray, orientations=9, pixels_per_cell=(8, 8),\n\u001b[1;32m     14\u001b[0m                        cells_per_block=(2, 2), transform_sqrt=True, block_norm='L2-Hys')\n",
            "\u001b[0;31merror\u001b[0m: OpenCV(4.7.0) /io/opencv/modules/imgproc/src/color.cpp:182: error: (-215:Assertion failed) !_src.empty() in function 'cvtColor'\n"
          ]
        }
      ]
    },
    {
      "cell_type": "code",
      "source": [
        "import cv2\n",
        "import numpy as np\n",
        "from skimage.feature import hog\n",
        "from sklearn.cluster import KMeans\n",
        "from sklearn.metrics import accuracy_score"
      ],
      "metadata": {
        "id": "ttlIpNPyakTV"
      },
      "execution_count": null,
      "outputs": []
    },
    {
      "cell_type": "code",
      "source": [
        "# Load training images and extract HOG features\n",
        "train_imgs = ['/content/orange2.jpg', '/content/orange3.jpg', '/content/orange4.jpg', '/content/orange5.jpg', '/content/orange6.jpg', '/content/orange7.jpg', '/content/orange8.jpg', '/content/orange9.jpg', '/content/orange10.jpg']\n",
        "train_features = []"
      ],
      "metadata": {
        "id": "YEA_UkcyakPx"
      },
      "execution_count": null,
      "outputs": []
    },
    {
      "cell_type": "code",
      "source": [
        "print(train_imgs)"
      ],
      "metadata": {
        "colab": {
          "base_uri": "https://localhost:8080/"
        },
        "id": "NY0Dt99nbBvr",
        "outputId": "cb1cc782-f184-4aef-e397-6937f5c98e2c"
      },
      "execution_count": null,
      "outputs": [
        {
          "output_type": "stream",
          "name": "stdout",
          "text": [
            "['/content/orange2.jpg', '/content/orange3.jpg', '/content/orange4.jpg', '/content/orange5.jpg', '/content/orange6.jpg', '/content/orange7.jpg', '/content/orange8.jpg', '/content/orange9.jpg', '/content/orange10.jpg']\n"
          ]
        }
      ]
    },
    {
      "cell_type": "code",
      "source": [
        "for img_path in train_imgs:\n",
        "    img = cv2.imread(img_path)\n",
        "    gray = cv2.cvtColor(img, cv2.COLOR_BGR2GRAY)\n",
        "    hog_features = hog(gray, orientations=9, pixels_per_cell=(8, 8),\n",
        "                       cells_per_block=(2, 2), transform_sqrt=True, block_norm='L2-Hys')\n",
        "    train_features.append(hog_features)"
      ],
      "metadata": {
        "colab": {
          "base_uri": "https://localhost:8080/",
          "height": 234
        },
        "id": "MNpV_f7_akNQ",
        "outputId": "05e56417-3b24-42da-b3fb-82568987af80"
      },
      "execution_count": null,
      "outputs": [
        {
          "output_type": "error",
          "ename": "error",
          "evalue": "ignored",
          "traceback": [
            "\u001b[0;31m---------------------------------------------------------------------------\u001b[0m",
            "\u001b[0;31merror\u001b[0m                                     Traceback (most recent call last)",
            "\u001b[0;32m<ipython-input-15-19f6c071fda6>\u001b[0m in \u001b[0;36m<cell line: 1>\u001b[0;34m()\u001b[0m\n\u001b[1;32m      1\u001b[0m \u001b[0;32mfor\u001b[0m \u001b[0mimg_path\u001b[0m \u001b[0;32min\u001b[0m \u001b[0mtrain_imgs\u001b[0m\u001b[0;34m:\u001b[0m\u001b[0;34m\u001b[0m\u001b[0;34m\u001b[0m\u001b[0m\n\u001b[1;32m      2\u001b[0m     \u001b[0mimg\u001b[0m \u001b[0;34m=\u001b[0m \u001b[0mcv2\u001b[0m\u001b[0;34m.\u001b[0m\u001b[0mimread\u001b[0m\u001b[0;34m(\u001b[0m\u001b[0mimg_path\u001b[0m\u001b[0;34m)\u001b[0m\u001b[0;34m\u001b[0m\u001b[0;34m\u001b[0m\u001b[0m\n\u001b[0;32m----> 3\u001b[0;31m     \u001b[0mgray\u001b[0m \u001b[0;34m=\u001b[0m \u001b[0mcv2\u001b[0m\u001b[0;34m.\u001b[0m\u001b[0mcvtColor\u001b[0m\u001b[0;34m(\u001b[0m\u001b[0mimg\u001b[0m\u001b[0;34m,\u001b[0m \u001b[0mcv2\u001b[0m\u001b[0;34m.\u001b[0m\u001b[0mCOLOR_BGR2GRAY\u001b[0m\u001b[0;34m)\u001b[0m\u001b[0;34m\u001b[0m\u001b[0;34m\u001b[0m\u001b[0m\n\u001b[0m\u001b[1;32m      4\u001b[0m     hog_features = hog(gray, orientations=9, pixels_per_cell=(8, 8),\n\u001b[1;32m      5\u001b[0m                        cells_per_block=(2, 2), transform_sqrt=True, block_norm='L2-Hys')\n",
            "\u001b[0;31merror\u001b[0m: OpenCV(4.7.0) /io/opencv/modules/imgproc/src/color.cpp:182: error: (-215:Assertion failed) !_src.empty() in function 'cvtColor'\n"
          ]
        }
      ]
    },
    {
      "cell_type": "markdown",
      "source": [
        "# **LAST TRY**"
      ],
      "metadata": {
        "id": "RQscgNH3esQZ"
      }
    },
    {
      "cell_type": "code",
      "source": [
        "\n",
        "\n",
        "\n",
        "\n",
        "\n",
        "\n",
        "# Train k-means clustering on the HOG features\n",
        "kmeans = KMeans(n_clusters=2)\n",
        "kmeans.fit(train_data)\n",
        "\n",
        "# Load testing data\n",
        "test_data = []\n",
        "test_labels = []\n",
        "\n",
        "for folder_name in ['test']:\n",
        "    for i in range(1, 6):\n",
        "        img = cv2.imread(f'{folder_name}/{i}.jpg')\n",
        "        img_gray = cv2.cvtColor(img, cv2.COLOR_BGR2GRAY)\n",
        "        img_resized = cv2.resize(img_gray, WINDOW_SIZE)\n",
        "        hog = cv2.HOGDescriptor(**HOG_PARAMS)\n",
        "        features = hog.compute(img_resized)\n",
        "        test_data.append(features)\n",
        "        test_labels.append(1 if folder_name == 'oranges' else 0)\n",
        "\n",
        "# Predict using k-means clustering\n",
        "test_pred = kmeans.predict(test_data)\n",
        "\n",
        "# Count oranges\n",
        "orange_count = np.sum(test_pred == 1)\n",
        "\n",
        "# Train KNN classifier on k-means labels\n",
        "knn = KNeighborsClassifier(n_neighbors=3)\n",
        "knn.fit(kmeans.labels_.reshape(-1, 1), train_labels)\n",
        "\n",
        "# Test KNN classifier on k-means predictions\n",
        "test_pred_labels = knn.predict(test_pred.reshape(-1, 1))\n",
        "\n",
        "# Calculate accuracy\n",
        "test_acc = np.mean(test_pred_labels == test_labels)\n",
        "\n",
        "# Display results\n",
        "print(f'Orange count: {orange_count}')\n",
        "print(f'Test accuracy: {test_acc * 100:.2f}%')\n"
      ],
      "metadata": {
        "id": "jH59wofWakGZ"
      },
      "execution_count": null,
      "outputs": []
    },
    {
      "cell_type": "code",
      "source": [
        "import cv2\n",
        "import os\n",
        "import numpy as np\n",
        "from sklearn.cluster import KMeans\n",
        "from sklearn.neighbors import KNeighborsClassifier\n",
        "\n",
        "# Set up HOG parameters\n",
        "WINDOW_SIZE = (64, 64)\n",
        "HOG_PARAMS = {'_winSize': (64, 64),\n",
        "              '_blockSize': (16, 16),\n",
        "              '_blockStride': (8, 8),\n",
        "              '_cellSize': (8, 8),\n",
        "              '_nbins': 9,\n",
        "              '_derivAperture': 1,\n",
        "              '_winSigma': -1,\n",
        "              '_histogramNormType': 0,\n",
        "              '_L2HysThreshold': 0.2,\n",
        "              '_gammaCorrection': True,\n",
        "              '_nlevels': 64,\n",
        "              '_signedGradient': False}\n",
        "\n",
        "\n"
      ],
      "metadata": {
        "id": "mC-uUaMre5xt"
      },
      "execution_count": null,
      "outputs": []
    },
    {
      "cell_type": "code",
      "source": [
        "# Load the image dataset\n",
        "data = []\n",
        "labels = []\n",
        "for folder_name in ['Oranges', 'Non-Oranges']:\n",
        "    folder_path = f'/content/drive/My Drive/Fruit_Dataset/{folder_name}/'\n",
        "    for filename in os.listdir(folder_path):\n",
        "        img = cv2.imread(os.path.join(folder_path, filename))\n",
        "        img_gray = cv2.cvtColor(img, cv2.COLOR_BGR2GRAY)\n",
        "        img_resized = cv2.resize(img_gray, WINDOW_SIZE)\n",
        "        hog = cv2.HOGDescriptor(**HOG_PARAMS)\n",
        "        features = hog.compute(img_resized)\n",
        "        data.append(features)\n",
        "        labels.append(1 if folder_name == 'Oranges' else 0)"
      ],
      "metadata": {
        "id": "8VvH613HhI2L"
      },
      "execution_count": null,
      "outputs": []
    },
    {
      "cell_type": "code",
      "source": [
        "# Train k-means clustering on the HOG features\n",
        "kmeans = KMeans(n_clusters=5)\n",
        "kmeans.fit(data)"
      ],
      "metadata": {
        "colab": {
          "base_uri": "https://localhost:8080/",
          "height": 130
        },
        "id": "hQQQxer7hqYM",
        "outputId": "baa8a280-e573-49b3-95d5-23745c3afda4"
      },
      "execution_count": null,
      "outputs": [
        {
          "output_type": "stream",
          "name": "stderr",
          "text": [
            "/usr/local/lib/python3.9/dist-packages/sklearn/cluster/_kmeans.py:870: FutureWarning: The default value of `n_init` will change from 10 to 'auto' in 1.4. Set the value of `n_init` explicitly to suppress the warning\n",
            "  warnings.warn(\n"
          ]
        },
        {
          "output_type": "execute_result",
          "data": {
            "text/plain": [
              "KMeans(n_clusters=5)"
            ],
            "text/html": [
              "<style>#sk-container-id-2 {color: black;background-color: white;}#sk-container-id-2 pre{padding: 0;}#sk-container-id-2 div.sk-toggleable {background-color: white;}#sk-container-id-2 label.sk-toggleable__label {cursor: pointer;display: block;width: 100%;margin-bottom: 0;padding: 0.3em;box-sizing: border-box;text-align: center;}#sk-container-id-2 label.sk-toggleable__label-arrow:before {content: \"▸\";float: left;margin-right: 0.25em;color: #696969;}#sk-container-id-2 label.sk-toggleable__label-arrow:hover:before {color: black;}#sk-container-id-2 div.sk-estimator:hover label.sk-toggleable__label-arrow:before {color: black;}#sk-container-id-2 div.sk-toggleable__content {max-height: 0;max-width: 0;overflow: hidden;text-align: left;background-color: #f0f8ff;}#sk-container-id-2 div.sk-toggleable__content pre {margin: 0.2em;color: black;border-radius: 0.25em;background-color: #f0f8ff;}#sk-container-id-2 input.sk-toggleable__control:checked~div.sk-toggleable__content {max-height: 200px;max-width: 100%;overflow: auto;}#sk-container-id-2 input.sk-toggleable__control:checked~label.sk-toggleable__label-arrow:before {content: \"▾\";}#sk-container-id-2 div.sk-estimator input.sk-toggleable__control:checked~label.sk-toggleable__label {background-color: #d4ebff;}#sk-container-id-2 div.sk-label input.sk-toggleable__control:checked~label.sk-toggleable__label {background-color: #d4ebff;}#sk-container-id-2 input.sk-hidden--visually {border: 0;clip: rect(1px 1px 1px 1px);clip: rect(1px, 1px, 1px, 1px);height: 1px;margin: -1px;overflow: hidden;padding: 0;position: absolute;width: 1px;}#sk-container-id-2 div.sk-estimator {font-family: monospace;background-color: #f0f8ff;border: 1px dotted black;border-radius: 0.25em;box-sizing: border-box;margin-bottom: 0.5em;}#sk-container-id-2 div.sk-estimator:hover {background-color: #d4ebff;}#sk-container-id-2 div.sk-parallel-item::after {content: \"\";width: 100%;border-bottom: 1px solid gray;flex-grow: 1;}#sk-container-id-2 div.sk-label:hover label.sk-toggleable__label {background-color: #d4ebff;}#sk-container-id-2 div.sk-serial::before {content: \"\";position: absolute;border-left: 1px solid gray;box-sizing: border-box;top: 0;bottom: 0;left: 50%;z-index: 0;}#sk-container-id-2 div.sk-serial {display: flex;flex-direction: column;align-items: center;background-color: white;padding-right: 0.2em;padding-left: 0.2em;position: relative;}#sk-container-id-2 div.sk-item {position: relative;z-index: 1;}#sk-container-id-2 div.sk-parallel {display: flex;align-items: stretch;justify-content: center;background-color: white;position: relative;}#sk-container-id-2 div.sk-item::before, #sk-container-id-2 div.sk-parallel-item::before {content: \"\";position: absolute;border-left: 1px solid gray;box-sizing: border-box;top: 0;bottom: 0;left: 50%;z-index: -1;}#sk-container-id-2 div.sk-parallel-item {display: flex;flex-direction: column;z-index: 1;position: relative;background-color: white;}#sk-container-id-2 div.sk-parallel-item:first-child::after {align-self: flex-end;width: 50%;}#sk-container-id-2 div.sk-parallel-item:last-child::after {align-self: flex-start;width: 50%;}#sk-container-id-2 div.sk-parallel-item:only-child::after {width: 0;}#sk-container-id-2 div.sk-dashed-wrapped {border: 1px dashed gray;margin: 0 0.4em 0.5em 0.4em;box-sizing: border-box;padding-bottom: 0.4em;background-color: white;}#sk-container-id-2 div.sk-label label {font-family: monospace;font-weight: bold;display: inline-block;line-height: 1.2em;}#sk-container-id-2 div.sk-label-container {text-align: center;}#sk-container-id-2 div.sk-container {/* jupyter's `normalize.less` sets `[hidden] { display: none; }` but bootstrap.min.css set `[hidden] { display: none !important; }` so we also need the `!important` here to be able to override the default hidden behavior on the sphinx rendered scikit-learn.org. See: https://github.com/scikit-learn/scikit-learn/issues/21755 */display: inline-block !important;position: relative;}#sk-container-id-2 div.sk-text-repr-fallback {display: none;}</style><div id=\"sk-container-id-2\" class=\"sk-top-container\"><div class=\"sk-text-repr-fallback\"><pre>KMeans(n_clusters=5)</pre><b>In a Jupyter environment, please rerun this cell to show the HTML representation or trust the notebook. <br />On GitHub, the HTML representation is unable to render, please try loading this page with nbviewer.org.</b></div><div class=\"sk-container\" hidden><div class=\"sk-item\"><div class=\"sk-estimator sk-toggleable\"><input class=\"sk-toggleable__control sk-hidden--visually\" id=\"sk-estimator-id-2\" type=\"checkbox\" checked><label for=\"sk-estimator-id-2\" class=\"sk-toggleable__label sk-toggleable__label-arrow\">KMeans</label><div class=\"sk-toggleable__content\"><pre>KMeans(n_clusters=5)</pre></div></div></div></div></div>"
            ]
          },
          "metadata": {},
          "execution_count": 37
        }
      ]
    },
    {
      "cell_type": "code",
      "source": [
        "# Load image\n",
        "img = cv2.imread('orange10.jpg')\n",
        "img_gray = cv2.cvtColor(img, cv2.COLOR_BGR2GRAY)\n",
        "img_resized = cv2.resize(img_gray, WINDOW_SIZE)\n",
        "\n",
        "# Compute HOG features\n",
        "hog = cv2.HOGDescriptor(**HOG_PARAMS)\n",
        "features = hog.compute(img_resized)\n",
        "features = np.squeeze(features)\n",
        "features = features.reshape(1, -1)\n",
        "# Convert input data to float\n",
        "features = features.astype(float)\n",
        "\n",
        "# Predict using trained model\n",
        "test_pred = kmeans.predict(features)\n",
        "\n",
        "# Count oranges\n",
        "orange_count = np.sum(test_pred == 1)\n",
        "\n",
        "# Display results\n",
        "print(f'Orange count: {orange_count}')"
      ],
      "metadata": {
        "colab": {
          "base_uri": "https://localhost:8080/"
        },
        "id": "qs98udulibxI",
        "outputId": "041a972f-fa05-4128-a837-4330e00b11ee"
      },
      "execution_count": null,
      "outputs": [
        {
          "output_type": "stream",
          "name": "stdout",
          "text": [
            "Orange count: 0\n"
          ]
        }
      ]
    }
  ]
}