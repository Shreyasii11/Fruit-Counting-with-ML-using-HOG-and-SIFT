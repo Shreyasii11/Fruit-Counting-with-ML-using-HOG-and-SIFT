{
  "nbformat": 4,
  "nbformat_minor": 0,
  "metadata": {
    "colab": {
      "provenance": [],
      "mount_file_id": "1bZ4NPnJ9CoFtdULRW2qnJHmBEjnSDhf2",
      "authorship_tag": "ABX9TyPbItgXyNUaOQjTAhQ5fu4P",
      "include_colab_link": true
    },
    "kernelspec": {
      "name": "python3",
      "display_name": "Python 3"
    },
    "language_info": {
      "name": "python"
    }
  },
  "cells": [
    {
      "cell_type": "markdown",
      "metadata": {
        "id": "view-in-github",
        "colab_type": "text"
      },
      "source": [
        "<a href=\"https://colab.research.google.com/github/Shreyasii11/Fruit-Counting-with-ML-using-HOG-and-SIFT/blob/model-1/SIFT_with_SVM.ipynb\" target=\"_parent\"><img src=\"https://colab.research.google.com/assets/colab-badge.svg\" alt=\"Open In Colab\"/></a>"
      ]
    },
    {
      "cell_type": "code",
      "source": [
        "import cv2\n",
        "import numpy as np\n",
        "import os\n",
        "from sklearn.svm import SVC\n",
        "from sklearn.metrics import accuracy_score"
      ],
      "metadata": {
        "id": "2kezvm4BwHO0"
      },
      "execution_count": null,
      "outputs": []
    },
    {
      "cell_type": "code",
      "source": [
        "# Define constants\n",
        "WINDOW_SIZE = (64, 64)"
      ],
      "metadata": {
        "id": "jIHeubfEwHS5"
      },
      "execution_count": null,
      "outputs": []
    },
    {
      "cell_type": "code",
      "source": [
        "# Load the image dataset\n",
        "data = []\n",
        "labels = []\n",
        "for folder_name in ['Oranges', 'Non-Oranges']:\n",
        "    folder_path = f'/content/drive/My Drive/Fruit_Dataset/{folder_name}/'\n",
        "    for filename in os.listdir(folder_path):\n",
        "        img = cv2.imread(os.path.join(folder_path, filename))\n",
        "        img_gray = cv2.cvtColor(img, cv2.COLOR_BGR2GRAY)\n",
        "        img_resized = cv2.resize(img_gray, WINDOW_SIZE)\n",
        "\n",
        "        # Extract SIFT features\n",
        "        sift = cv2.xfeatures2d.SIFT_create()\n",
        "        keypoints, features = sift.detectAndCompute(img_resized, None)\n",
        "\n",
        "        data.append(features)\n",
        "        labels.append(1 if folder_name == 'Oranges' else 0)"
      ],
      "metadata": {
        "id": "dQu_ajD6wHUy"
      },
      "execution_count": null,
      "outputs": []
    },
    {
      "cell_type": "code",
      "source": [
        "# Convert data to numpy arrays\n",
        "data = np.array(data)\n",
        "labels = np.array(labels)"
      ],
      "metadata": {
        "id": "p5AAf5HiwHYE",
        "colab": {
          "base_uri": "https://localhost:8080/"
        },
        "outputId": "27f32b68-d0d8-4f44-d0f9-bb30f8a08bc6"
      },
      "execution_count": null,
      "outputs": [
        {
          "output_type": "stream",
          "name": "stderr",
          "text": [
            "<ipython-input-33-9c0993274e87>:2: VisibleDeprecationWarning: Creating an ndarray from ragged nested sequences (which is a list-or-tuple of lists-or-tuples-or ndarrays with different lengths or shapes) is deprecated. If you meant to do this, you must specify 'dtype=object' when creating the ndarray.\n",
            "  data = np.array(data)\n"
          ]
        }
      ]
    },
    {
      "cell_type": "code",
      "source": [
        "# Shuffle the data\n",
        "indices = np.random.permutation(len(data))\n",
        "data = data[indices]\n",
        "labels = labels[indices]"
      ],
      "metadata": {
        "id": "3gxPSskiwHaQ"
      },
      "execution_count": null,
      "outputs": []
    },
    {
      "cell_type": "code",
      "source": [
        "# Reshape X_test to the format that predict() can handle\n",
        "X_test = np.array([x.ravel() for x in X_test])"
      ],
      "metadata": {
        "id": "GAYMzdO3D0en"
      },
      "execution_count": null,
      "outputs": []
    },
    {
      "cell_type": "code",
      "source": [
        "# Make predictions on the test set\n",
        "y_pred = svm.predict(X_test)"
      ],
      "metadata": {
        "id": "CuxvaI45wHd_"
      },
      "execution_count": null,
      "outputs": []
    },
    {
      "cell_type": "code",
      "source": [
        "# Calculate accuracy and number of oranges\n",
        "accuracy = accuracy_score(y_test, y_pred)\n",
        "num_oranges = np.sum(y_pred)"
      ],
      "metadata": {
        "id": "3Ybw3UnmwHg5"
      },
      "execution_count": null,
      "outputs": []
    },
    {
      "cell_type": "code",
      "source": [
        "# Display results\n",
        "print(f\"Accuracy: {accuracy*100}\")\n",
        "print(f\"Number of oranges counted: {num_oranges}\")"
      ],
      "metadata": {
        "colab": {
          "base_uri": "https://localhost:8080/"
        },
        "id": "ZOXK1-qIG4TC",
        "outputId": "d26e1806-a225-4a1d-82da-ac7123935d8d"
      },
      "execution_count": null,
      "outputs": [
        {
          "output_type": "stream",
          "name": "stdout",
          "text": [
            "Accuracy: 56.25\n",
            "Number of oranges counted: 3\n"
          ]
        }
      ]
    }
  ]
}